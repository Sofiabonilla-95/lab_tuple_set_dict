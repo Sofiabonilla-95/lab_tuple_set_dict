{
 "cells": [
  {
   "cell_type": "markdown",
   "metadata": {},
   "source": [
    "## Challenge 2: Sets\n",
    "\n",
    "There are a lot to learn about Python Sets and the information presented in the lesson is limited due to its length. To learn Python Sets in depth you are strongly encouraged to review the W3Schools tutorial on [Python Sets Examples and Methods](https://www.w3schools.com/python/python_sets.asp) before you work on this lab. Some difficult questions in this lab have their solutions in the W3Schools tutorial.\n",
    "\n",
    "#### First, import the Python `random` libary"
   ]
  },
  {
   "cell_type": "code",
   "execution_count": 5,
   "metadata": {},
   "outputs": [],
   "source": [
    "import random"
   ]
  },
  {
   "cell_type": "markdown",
   "metadata": {},
   "source": [
    "#### In the cell below, create a list named `sample_list_1` with 80 random values. \n",
    "\n",
    "Requirements:\n",
    "\n",
    "* Each value is an integer falling between 0 and 100.\n",
    "* Each value in the list is unique.\n",
    "\n",
    "Print `sample_list_1` to review its values\n",
    "\n",
    "*Hint: use `random.sample` ([reference](https://docs.python.org/3/library/random.html#random.sample)).*"
   ]
  },
  {
   "cell_type": "code",
   "execution_count": 150,
   "metadata": {},
   "outputs": [
    {
     "name": "stdout",
     "output_type": "stream",
     "text": [
      "[89, 69, 77, 81, 93, 65, 76, 83, 74, 94, 3, 56, 92, 67, 32, 16, 97, 13, 17, 42, 71, 82, 29, 46, 61, 55, 68, 14, 1, 0, 9, 50, 86, 52, 24, 53, 36, 12, 10, 48, 45, 54, 57, 41, 19, 64, 90, 66, 39, 88, 51, 4, 20, 11, 63, 47, 15, 35, 37, 7, 25, 96, 60, 21, 22, 87, 23, 18, 28, 31, 5, 49, 72, 27, 75, 43, 91, 33, 62, 8]\n"
     ]
    },
    {
     "data": {
      "text/plain": [
       "80"
      ]
     },
     "execution_count": 150,
     "metadata": {},
     "output_type": "execute_result"
    }
   ],
   "source": [
    "sample_list_1=0\n",
    "sample_list_1=random.sample(range(100),k=80)\n",
    "print(sample_list_1)\n",
    "len(sample_list_1)"
   ]
  },
  {
   "cell_type": "markdown",
   "metadata": {},
   "source": [
    "#### Convert `sample_list_1` to a set called `set1`. Print the length of the set. Is its length still 80?"
   ]
  },
  {
   "cell_type": "code",
   "execution_count": 151,
   "metadata": {},
   "outputs": [
    {
     "name": "stdout",
     "output_type": "stream",
     "text": [
      "{0, 1, 3, 4, 5, 7, 8, 9, 10, 11, 12, 13, 14, 15, 16, 17, 18, 19, 20, 21, 22, 23, 24, 25, 27, 28, 29, 31, 32, 33, 35, 36, 37, 39, 41, 42, 43, 45, 46, 47, 48, 49, 50, 51, 52, 53, 54, 55, 56, 57, 60, 61, 62, 63, 64, 65, 66, 67, 68, 69, 71, 72, 74, 75, 76, 77, 81, 82, 83, 86, 87, 88, 89, 90, 91, 92, 93, 94, 96, 97}\n"
     ]
    },
    {
     "data": {
      "text/plain": [
       "80"
      ]
     },
     "execution_count": 151,
     "metadata": {},
     "output_type": "execute_result"
    }
   ],
   "source": [
    "set1=set(sample_list_1)\n",
    "\n",
    "print(set1)\n",
    "\n",
    "len(set1)\n"
   ]
  },
  {
   "cell_type": "markdown",
   "metadata": {},
   "source": [
    "#### Create another list named `sample_list_2` with 80 random values.\n",
    "\n",
    "Requirements:\n",
    "\n",
    "* Each value is an integer falling between 0 and 100.\n",
    "* The values in the list don't have to be unique.\n",
    "\n",
    "*Hint: Use a FOR loop.*"
   ]
  },
  {
   "cell_type": "code",
   "execution_count": 115,
   "metadata": {},
   "outputs": [
    {
     "name": "stdout",
     "output_type": "stream",
     "text": [
      "[56, 19, 35, 93, 62, 13, 71, 48, 3, 81, 44, 30, 69, 43, 56, 87, 32, 84, 69, 79, 27, 45, 49, 19, 15, 89, 92, 19, 84, 25, 63, 49, 73, 48, 57, 86, 82, 50, 68, 6, 26, 18, 25, 54, 32, 51, 99, 16, 27, 53, 3, 71, 38, 6, 97, 33, 30, 20, 56, 99, 17, 74, 31, 72, 61, 32, 28, 94, 62, 29, 63, 90, 60, 39, 83, 82, 48, 11, 90, 13]\n"
     ]
    }
   ],
   "source": [
    "sample_list=random.choices(range(100),k=80)\n",
    "\n",
    "print(sample_list)\n"
   ]
  },
  {
   "cell_type": "code",
   "execution_count": 116,
   "metadata": {},
   "outputs": [
    {
     "name": "stdout",
     "output_type": "stream",
     "text": [
      "[81, 77, 27, 13, 49, 49, 16, 62, 89, 27, 21, 12, 81, 26, 21, 55, 86, 93, 55, 88, 55, 22, 20, 17, 28, 61, 1, 97, 2, 46, 12, 41, 63, 35, 17, 3, 20, 16, 78, 20, 66, 8, 69, 22, 78, 31, 32, 28, 83, 15, 93, 56, 29, 80, 14, 12, 36, 37, 24, 58, 53, 24, 9, 67, 11, 70, 37, 38, 9, 2, 54, 70, 90, 40, 66, 36, 86, 5, 86]\n"
     ]
    }
   ],
   "source": [
    "for i in range(80):\n",
    "    sample_list_2=random.choices(range(100),k=i)\n",
    "print(sample_list_2)\n",
    "\n",
    "\n"
   ]
  },
  {
   "cell_type": "markdown",
   "metadata": {},
   "source": [
    "#### Convert `sample_list_2` to a set called `set2`. Print the length of the set. Is its length still 80?"
   ]
  },
  {
   "cell_type": "code",
   "execution_count": 117,
   "metadata": {},
   "outputs": [
    {
     "name": "stdout",
     "output_type": "stream",
     "text": [
      "{1, 2, 3, 5, 8, 9, 11, 12, 13, 14, 15, 16, 17, 20, 21, 22, 24, 26, 27, 28, 29, 31, 32, 35, 36, 37, 38, 40, 41, 46, 49, 53, 54, 55, 56, 58, 61, 62, 63, 66, 67, 69, 70, 77, 78, 80, 81, 83, 86, 88, 89, 90, 93, 97}\n"
     ]
    },
    {
     "data": {
      "text/plain": [
       "54"
      ]
     },
     "execution_count": 117,
     "metadata": {},
     "output_type": "execute_result"
    }
   ],
   "source": [
    "set2=set(sample_list_2)\n",
    "\n",
    "print(set2)\n",
    "len(set2)"
   ]
  },
  {
   "cell_type": "markdown",
   "metadata": {},
   "source": [
    "#### Identify the elements present in `set1` but not in `set2`. Assign the elements to a new set named `set3`."
   ]
  },
  {
   "cell_type": "code",
   "execution_count": 118,
   "metadata": {},
   "outputs": [
    {
     "name": "stdout",
     "output_type": "stream",
     "text": [
      "{0, 6, 7, 10, 18, 19, 25, 33, 34, 39, 42, 43, 44, 45, 47, 48, 50, 51, 52, 59, 60, 64, 65, 71, 72, 73, 74, 75, 76, 79, 82, 84, 87, 92, 96, 98, 99}\n"
     ]
    }
   ],
   "source": [
    "set3={0}\n",
    "for i in set1:\n",
    "    if i in set2:\n",
    "        x=0\n",
    "    else:\n",
    "        set3.add(i)\n",
    "print(set3)"
   ]
  },
  {
   "cell_type": "code",
   "execution_count": 64,
   "metadata": {},
   "outputs": [
    {
     "name": "stdout",
     "output_type": "stream",
     "text": [
      "{0, 1, 35, 5, 70, 7, 74, 46, 58, 60}\n"
     ]
    }
   ],
   "source": [
    "# set 2 pero no en set 1\n",
    "\n",
    "set4={0}\n",
    "for i in set2:\n",
    "    if i in set1:\n",
    "        x=0\n",
    "    else:\n",
    "        set4.add(i)\n",
    "print(set4)\n"
   ]
  },
  {
   "cell_type": "markdown",
   "metadata": {},
   "source": []
  },
  {
   "cell_type": "markdown",
   "metadata": {},
   "source": [
    "#### Now Identify the elements shared between `set1` and `set2`. Assign the elements to a new set named `set5`."
   ]
  },
  {
   "cell_type": "code",
   "execution_count": 68,
   "metadata": {},
   "outputs": [
    {
     "name": "stdout",
     "output_type": "stream",
     "text": [
      "{0, 4, 6, 8, 9, 14, 15, 16, 18, 21, 23, 25, 26, 27, 28, 31, 34, 36, 37, 40, 41, 42, 43, 45, 47, 48, 50, 51, 52, 55, 56, 57, 59, 64, 65, 66, 67, 69, 75, 76, 77, 80, 81, 88, 92, 95, 96, 98}\n"
     ]
    }
   ],
   "source": [
    "set5={0}\n",
    "for i in set1:\n",
    "    if i in set2:\n",
    "        set5.add(i)\n",
    "print(set5)\n",
    "\n"
   ]
  },
  {
   "cell_type": "markdown",
   "metadata": {},
   "source": [
    "#### What is the relationship among the following values:\n",
    "\n",
    "* len(set1)\n",
    "* len(set2)\n",
    "* len(set3)\n",
    "* len(set4)\n",
    "* len(set5)\n",
    "\n",
    "Use a math formular to represent that relationship. Test your formular with Python code."
   ]
  },
  {
   "cell_type": "code",
   "execution_count": 82,
   "metadata": {},
   "outputs": [
    {
     "name": "stdout",
     "output_type": "stream",
     "text": [
      "43\n"
     ]
    }
   ],
   "source": [
    "prob_set1_set2=len(set3)+len(set4)-len(set5)\n",
    "\n",
    "print(prob_set1_set2)\n",
    "    "
   ]
  },
  {
   "cell_type": "markdown",
   "metadata": {},
   "source": [
    "set6={0]"
   ]
  },
  {
   "cell_type": "code",
   "execution_count": 85,
   "metadata": {},
   "outputs": [
    {
     "name": "stdout",
     "output_type": "stream",
     "text": [
      "{}\n"
     ]
    }
   ],
   "source": [
    "set6={}\n",
    "print(set6)\n"
   ]
  },
  {
   "cell_type": "markdown",
   "metadata": {},
   "source": [
    "#### Add `set3` and `set5` to `set6` using the Python Set `update` method."
   ]
  },
  {
   "cell_type": "code",
   "execution_count": 87,
   "metadata": {},
   "outputs": [
    {
     "name": "stdout",
     "output_type": "stream",
     "text": [
      "{0, 2, 3, 4, 6, 8, 9, 12, 13, 14, 15, 16, 17, 18, 19, 20, 21, 23, 24, 25, 26, 27, 28, 31, 32, 33, 34, 36, 37, 38, 39, 40, 41, 42, 43, 44, 45, 47, 48, 50, 51, 52, 53, 54, 55, 56, 57, 59, 62, 63, 64, 65, 66, 67, 68, 69, 71, 72, 75, 76, 77, 78, 79, 80, 81, 82, 83, 84, 85, 86, 87, 88, 90, 91, 92, 93, 94, 95, 96, 98, 99}\n"
     ]
    }
   ],
   "source": [
    "set3.update(set5)\n",
    "\n",
    "print(set3)\n"
   ]
  },
  {
   "cell_type": "markdown",
   "metadata": {},
   "source": [
    "#### Check if `set1` and `set6` are equal."
   ]
  },
  {
   "cell_type": "code",
   "execution_count": 94,
   "metadata": {},
   "outputs": [
    {
     "name": "stdout",
     "output_type": "stream",
     "text": [
      "no son iguales\n"
     ]
    }
   ],
   "source": [
    "if set1 == set6:\n",
    "    print('son iguales')\n",
    "else:\n",
    "    print('no son iguales')\n",
    "    \n",
    "    \n"
   ]
  },
  {
   "cell_type": "markdown",
   "metadata": {},
   "source": [
    "#### Check if `set1` contains `set2` using the Python Set `issubset` method. Then check if `set1` contains `set3`.*"
   ]
  },
  {
   "cell_type": "code",
   "execution_count": 119,
   "metadata": {},
   "outputs": [
    {
     "name": "stdout",
     "output_type": "stream",
     "text": [
      "False\n",
      "True\n"
     ]
    }
   ],
   "source": [
    "print(set2.issubset(set1))\n",
    "print(set3.issubset(set1))\n",
    "\n",
    "\n"
   ]
  },
  {
   "cell_type": "markdown",
   "metadata": {},
   "source": [
    "#### Using the Python Set `union` method, aggregate `set3`, `set4`, and `set5`. Then aggregate `set1` and `set2`. \n",
    "\n",
    "#### Check if the aggregated values are equal."
   ]
  },
  {
   "cell_type": "code",
   "execution_count": 123,
   "metadata": {},
   "outputs": [
    {
     "name": "stdout",
     "output_type": "stream",
     "text": [
      "{0, 1, 4, 5, 6, 7, 8, 9, 10, 14, 15, 16, 18, 19, 21, 23, 25, 26, 27, 28, 31, 33, 34, 35, 36, 37, 39, 40, 41, 42, 43, 44, 45, 46, 47, 48, 50, 51, 52, 55, 56, 57, 58, 59, 60, 64, 65, 66, 67, 69, 70, 71, 72, 73, 74, 75, 76, 77, 79, 80, 81, 82, 84, 87, 88, 92, 95, 96, 98, 99}\n",
      "{0, 1, 2, 3, 4, 5, 6, 7, 8, 9, 10, 11, 12, 13, 14, 15, 16, 17, 18, 19, 20, 21, 22, 23, 24, 25, 26, 27, 28, 29, 31, 32, 33, 34, 35, 36, 37, 38, 39, 40, 41, 42, 43, 44, 45, 46, 47, 48, 49, 50, 51, 52, 53, 54, 55, 56, 57, 58, 59, 60, 61, 62, 63, 64, 65, 66, 67, 69, 70, 71, 72, 73, 74, 75, 76, 77, 78, 79, 80, 81, 82, 83, 84, 86, 87, 88, 89, 90, 92, 93, 95, 96, 97, 98, 99}\n",
      "no son iguales\n"
     ]
    }
   ],
   "source": [
    "union1_2_3=set3.union(set4, set5)\n",
    "print(union1_2_3)\n",
    "\n",
    "union123_45=union1_2_3.union(set1, set2)\n",
    "print(union123_45)\n",
    "\n",
    "if union1_2_3 == union123_45:\n",
    "    print('son iguales')\n",
    "else:\n",
    "    print('no son iguales')\n"
   ]
  },
  {
   "cell_type": "markdown",
   "metadata": {},
   "source": [
    "#### Using the `pop` method, remove the first element from `set1`."
   ]
  },
  {
   "cell_type": "code",
   "execution_count": 136,
   "metadata": {},
   "outputs": [
    {
     "data": {
      "text/plain": [
       "0"
      ]
     },
     "execution_count": 136,
     "metadata": {},
     "output_type": "execute_result"
    }
   ],
   "source": [
    "set1.pop()"
   ]
  },
  {
   "cell_type": "markdown",
   "metadata": {},
   "source": [
    "#### Remove every element in the following list from `set1` if they are present in the set. Print the remaining elements.\n",
    "\n",
    "```\n",
    "list_to_remove = [1, 9, 11, 19, 21, 29, 31, 39, 41, 49, 51, 59, 61, 69, 71, 79, 81, 89, 91, 99]\n",
    "```"
   ]
  },
  {
   "cell_type": "code",
   "execution_count": 155,
   "metadata": {},
   "outputs": [
    {
     "name": "stdout",
     "output_type": "stream",
     "text": [
      "{1, 9, 11, 19, 21, 29, 31, 39, 41, 49, 51, 59, 61, 69, 71, 79, 81, 89, 91, 99}\n",
      "{0, 3, 4, 5, 7, 8, 10, 12, 13, 14, 15, 16, 17, 18, 20, 22, 23, 24, 25, 27, 28, 32, 33, 35, 36, 37, 42, 43, 45, 46, 47, 48, 50, 52, 53, 54, 55, 56, 57, 60, 62, 63, 64, 65, 66, 67, 68, 72, 74, 75, 76, 77, 82, 83, 86, 87, 88, 90, 92, 93, 94, 96, 97}\n"
     ]
    }
   ],
   "source": [
    "list_to_remove = [1, 9, 11, 19, 21, 29, 31, 39, 41, 49, 51, 59, 61, 69, 71, 79, 81, 89, 91, 99]\n",
    "\n",
    "set_remove=set(list_to_remove)\n",
    "\n",
    "print(set_remove)\n",
    "\n",
    "eliminados=set1-set_remove\n",
    "\n",
    "print(eliminados)\n"
   ]
  },
  {
   "cell_type": "code",
   "execution_count": null,
   "metadata": {},
   "outputs": [],
   "source": []
  }
 ],
 "metadata": {
  "kernelspec": {
   "display_name": "Python 3 (ipykernel)",
   "language": "python",
   "name": "python3"
  },
  "language_info": {
   "codemirror_mode": {
    "name": "ipython",
    "version": 3
   },
   "file_extension": ".py",
   "mimetype": "text/x-python",
   "name": "python",
   "nbconvert_exporter": "python",
   "pygments_lexer": "ipython3",
   "version": "3.9.6"
  }
 },
 "nbformat": 4,
 "nbformat_minor": 2
}
